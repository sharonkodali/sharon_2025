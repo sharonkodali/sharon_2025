---
layout: post
toc: True
title: Hacks Tools and equipment play
description: Sprint 1
authors: Sharon Kodali
categories: ['AP CSA']
courses: {'csa': {'week': 3}}
type: ccc
permalink: /toolhacks
---

```python
# List of best-selling books in the 2000s with their word counts (simulated data)
best_selling_books = [
    {"title": "Harry Potter and the Order of the Phoenix", "word_count": 257045},
    {"title": "The Da Vinci Code", "word_count": 138996},
    {"title": "The Kite Runner", "word_count": 101852},
    {"title": "Twilight", "word_count": 118975},
    {"title": "The Hunger Games", "word_count": 99800},
    {"title": "The Girl with the Dragon Tattoo", "word_count": 139500},
    {"title": "Angels & Demons", "word_count": 151080},
    {"title": "The Road", "word_count": 62500},
    {"title": "Life of Pi", "word_count": 101232},
    {"title": "The Lovely Bones", "word_count": 102379}
]

# Variable to hold the total word count
total_word_count = 0

# Iterate through the list of books and sum their word counts
for book in best_selling_books:
    total_word_count += book["word_count"]
    # Display the title and the word count for each book
    print(f"{book['title']} has {book['word_count']} words.")

# Calculate the average word count
average_word_count = total_word_count / len(best_selling_books)

# Output the average word count
print(f"\nThe average word count of these best-selling books is: {average_word_count:.0f} words.")

```

    Harry Potter and the Order of the Phoenix has 257045 words.
    The Da Vinci Code has 138996 words.
    The Kite Runner has 101852 words.
    Twilight has 118975 words.
    The Hunger Games has 99800 words.
    The Girl with the Dragon Tattoo has 139500 words.
    Angels & Demons has 151080 words.
    The Road has 62500 words.
    Life of Pi has 101232 words.
    The Lovely Bones has 102379 words.
    
    The average word count of these best-selling books is: 127336 words.


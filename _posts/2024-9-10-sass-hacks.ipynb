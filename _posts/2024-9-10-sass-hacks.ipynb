---
layout: post
toc: True
title: SASS hacks
description: Sprint 1
authors: Sharon Kodali
categories: ['AP CSA']
courses: {'csa': {'week': 3}}
type: ccc
---

### Popcorn hacks

- Go to the _sass/minima/custom-styles.scss file and change the style. You can do this by changing the imported themes. To see these changes _config.yml needs to be set to minima.


```python
// Comment in or Uncomment out the following themes to use them 

// Dark themes
//@import "minima/leaf/_leaf";  //Leaf theme
//@import "minima/hacker/jekyll-theme-hacker"; //Hacker theme 
@import "minima/dracula/_dracula";

// Light themes
//@import "minima/hamilton/main"; //Hamilton theme
//@import "minima/monophase/main"; //Monophase theme 
//@import "minima/minimal-mistakes/__minimal-mistakes"; //Minimal Mistakes theme 
// Mix Light themes with this if your eyes are bleeding 
@import "minima/dracula/dark-mode";

// Styles for nighthawk theme, do not remove
@import "nighthawk/main";

```

SASS vs CSS
The awesomeness of SASS (Syntactically Awesome Stylesheets) really comes down to having programattic and reusable features that it can turn SASS into CSS.

SASS is a powerful extension of CSS that enables developers to use features not available in pure CSS, such as variables, mixins, and nesting. Such features, as well the SASS preprocessor can create consistent CSS for multiple pages out of a single SASS definitions.
CSS remains the foundational language for styling Web Pages. SASS contains a scripting languages and a preprocessor (build step) that creates CSS stylesheets.

## CSS Sample


```python
<nav>
  <ul>
    <li><a href="#">Home</a></li>
    <li><a href="#">About</a></li>
    <li><a href="#">Contact</a></li>
  </ul>
</nav>

<!-- This is CSS which doesn't utilize nesting -->
<style>
  nav {
  background-color: #333;
  }

  nav ul {
  list-style: none;
  }

  nav ul li {
  display: inline-block;
  }

  nav ul li a {
  color: white;
  text-decoration: none;
  }

  nav ul li a:hover {
  color: #ff0;
  }
</style>
```

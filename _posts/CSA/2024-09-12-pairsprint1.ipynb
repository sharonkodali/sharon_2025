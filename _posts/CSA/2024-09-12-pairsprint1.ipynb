{
 "cells": [
  {
   "cell_type": "markdown",
   "metadata": {},
   "source": [
    "---\n",
    "layout: post\n",
    "toc: True\n",
    "title: Pair programming bot\n",
    "description: Sprint 1\n",
    "authors: Sharon Kodali\n",
    "categories: ['AP CSA']\n",
    "courses: {'csa': {'week': 3}}\n",
    "type: ccc\n",
    "---"
   ]
  },
  {
   "cell_type": "code",
   "execution_count": 8,
   "metadata": {},
   "outputs": [],
   "source": [
    "# Import necessary modules\n",
    "import random\n",
    "import datetime\n"
   ]
  },
  {
   "cell_type": "code",
   "execution_count": 9,
   "metadata": {},
   "outputs": [],
   "source": [
    "# current time\n",
    "def get_time():\n",
    "    return datetime.datetime.now().strftime(\"%H:%M:%S\")\n",
    "\n",
    "# current date\n",
    "def get_date():\n",
    "    return datetime.datetime.now().strftime(\"%Y-%m-%d\")\n",
    "\n",
    "# greeting thing\n",
    "def get_greeting():\n",
    "    greetings = [\"Hi there!\", \"Hello!\", \"Hey!\", \"Hi! How can I assist you?\"]\n",
    "    return random.choice(greetings)\n",
    "\n",
    "# coding jokes\n",
    "def get_joke():\n",
    "    jokes = [\n",
    "        \"Why do programmers prefer dark mode? Because the light attracts bugs!\",\n",
    "        \"Why do Java developers wear glasses? Because they don’t see sharp.\",\n",
    "        \"How many programmers does it take to change a light bulb? None, that’s a hardware problem!\"\n",
    "    ]\n",
    "    return random.choice(jokes)\n",
    "\n",
    "# Function to process user input and return a response\n",
    "def chatbot_response(user_input):\n",
    "    if \"time\" in user_input.lower():\n",
    "        return f\"The current time is {get_time()}.\"\n",
    "    elif \"date\" in user_input.lower():\n",
    "        return f\"Today's date is {get_date()}.\"\n",
    "    elif \"hello\" in user_input.lower() or \"hi\" in user_input.lower():\n",
    "        return get_greeting()\n",
    "    elif \"joke\" in user_input.lower():\n",
    "        return get_joke()\n",
    "    elif \"calculate\" in user_input.lower():\n",
    "        try:\n",
    "            expression = user_input.split(\"calculate\", 1)[1].strip()\n",
    "            result = eval(expression)  # Be careful using eval; sanitize inputs in a real-world scenario\n",
    "            return f\"The result of {expression} is {result}.\"\n",
    "        except Exception as e:\n",
    "            return f\"Sorry, I couldn't calculate that. Error: {str(e)}\"\n",
    "    else:\n",
    "        return \"I'm not sure how to respond to that. Can you ask something else?\"\n"
   ]
  },
  {
   "cell_type": "code",
   "execution_count": 10,
   "metadata": {},
   "outputs": [
    {
     "name": "stdout",
     "output_type": "stream",
     "text": [
      "Welcome to your personal assistant chatbot! Type 'exit' to end.\n",
      "Bot: Hey!\n",
      "Goodbye!\n"
     ]
    }
   ],
   "source": [
    "# Chatbot interaction loop\n",
    "print(\"Welcome to your personal assistant chatbot! Type 'exit' to end.\")\n",
    "\n",
    "while True:\n",
    "    user_input = input(\"You: \")\n",
    "    if user_input.lower() == \"exit\":\n",
    "        print(\"Goodbye!\")\n",
    "        break\n",
    "    response = chatbot_response(user_input)\n",
    "    print(f\"Bot: {response}\")\n"
   ]
  }
 ],
 "metadata": {
  "kernelspec": {
   "display_name": ".venv",
   "language": "python",
   "name": "python3"
  },
  "language_info": {
   "codemirror_mode": {
    "name": "ipython",
    "version": 3
   },
   "file_extension": ".py",
   "mimetype": "text/x-python",
   "name": "python",
   "nbconvert_exporter": "python",
   "pygments_lexer": "ipython3",
   "version": "3.12.5"
  }
 },
 "nbformat": 4,
 "nbformat_minor": 2
}

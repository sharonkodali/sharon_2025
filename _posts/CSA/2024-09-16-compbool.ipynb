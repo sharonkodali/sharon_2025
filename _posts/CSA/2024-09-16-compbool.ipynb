{
 "cells": [
  {
   "cell_type": "markdown",
   "metadata": {},
   "source": [
    "---\n",
    "layout: post\n",
    "toc: True\n",
    "title: Boolean expressions and if statements\n",
    "description: 3.5-3.6\n",
    "authors: Sharon Kodali\n",
    "categories: ['AP CSA']\n",
    "courses: {'csa': {'week': 3}}\n",
    "type: ccc\n",
    "---"
   ]
  }
 ],
 "metadata": {
  "language_info": {
   "name": "python"
  },
  "orig_nbformat": 4
 },
 "nbformat": 4,
 "nbformat_minor": 2
}

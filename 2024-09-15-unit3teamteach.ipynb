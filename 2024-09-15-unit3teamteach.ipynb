{
 "cells": [
  {
   "cell_type": "markdown",
   "metadata": {},
   "source": [
    "---\n",
    "layout: post\n",
    "title: Unit 3 Team Teach - Boolean Expressions and If Statements\n",
    "categories: [Collaboration]\n",
    "courses: {csa: {week: 3}}\n",
    "toc: true\n",
    "comments: true\n",
    "---"
   ]
  },
  {
   "cell_type": "markdown",
   "metadata": {},
   "source": [
    "# Navigation menu \n",
    "\n",
    "- [Boolean Expressions](#boolean-expressions)\n",
    "- [If Statements](#if-statements)\n",
    "- [If else Statements](#if-else-statements)\n",
    "- [conditional statements](#conditional-statements)\n",
    "- [Comparing objects](#comparing-objects)"
   ]
  },
  {
   "cell_type": "markdown",
   "metadata": {},
   "source": [
    "# 3.1 Boolean Expressions\n",
    "\n",
    "<a id=\"boolean-expressions\"></a>\n",
    "\n",
    "## Java's relational operators\n",
    "\n",
    "- equal to: ==\n",
    "- not equal to: !=\n",
    "- less than: <\n",
    "- greater than: >\n",
    "- less than or equal to: <=\n",
    "- greater than or equal to >="
   ]
  },
  {
   "cell_type": "markdown",
   "metadata": {},
   "source": [
    "<b>Hack!</b>\n",
    "\n",
    "```\n",
    "int myAge = 15;\n",
    "int otherAge = 45; \n",
    "```\n",
    "using these integers, determine weather the following statements are True or False\n",
    "\n",
    "<img width=\"785\" alt=\"Screenshot 2024-09-15 at 10 00 54 PM\" src=\"https://github.com/user-attachments/assets/1f4ec53e-fd9a-4f49-9546-a4945b8a207c\">\n",
    "\n",
    "## Strings"
   ]
  },
  {
   "cell_type": "markdown",
   "metadata": {},
   "source": [
    "whats wrong with this code? (below)"
   ]
  },
  {
   "cell_type": "code",
   "execution_count": 11,
   "metadata": {
    "vscode": {
     "languageId": "java"
    }
   },
   "outputs": [
    {
     "ename": "CompilationException",
     "evalue": "",
     "output_type": "error",
     "traceback": [
      "\u001b[1m\u001b[30m|   \u001b[1m\u001b[30mString myName = \u001b[0m\u001b[1m\u001b[30m\u001b[41mAlisha\u001b[0m\u001b[1m\u001b[30m;\u001b[0m",
      "\u001b[1m\u001b[31mcannot find symbol\u001b[0m",
      "\u001b[1m\u001b[31m  symbol:   variable Alisha\u001b[0m",
      ""
     ]
    }
   ],
   "source": [
    "\n",
    "String myName = Alisha;\n",
    "\n",
    "myName != Anika;\n",
    "myName == Alisha ;"
   ]
  },
  {
   "cell_type": "markdown",
   "metadata": {},
   "source": [
    "comparison of string objects should be done using String methods, NOT integer methods. \n",
    "\n",
    "- .equal\n",
    "- compare to"
   ]
  },
  {
   "cell_type": "code",
   "execution_count": null,
   "metadata": {
    "vscode": {
     "languageId": "java"
    }
   },
   "outputs": [
    {
     "name": "stdout",
     "output_type": "stream",
     "text": [
      "True\n"
     ]
    }
   ],
   "source": [
    "String myName = \"Alisha\";\n",
    "boolean areNamesEqual = myName.equals(\"Alisha\");  \n",
    "\n",
    "if (areNamesEqual) {\n",
    "    System.out.println(\"True\");\n",
    "} else {\n",
    "    System.out.println(\"False\");\n",
    "}\n"
   ]
  },
  {
   "cell_type": "markdown",
   "metadata": {},
   "source": [
    "### homework question\n",
    "<img width=\"693\" alt=\"Screenshot 2024-09-16 at 8 05 24 AM\" src=\"https://github.com/user-attachments/assets/1fe21854-ca17-4cfd-9e9d-14a92e6e6205\">\n",
    "what is the precondition for num?\n",
    " "
   ]
  },
  {
   "cell_type": "markdown",
   "metadata": {},
   "source": [
    "# 3.2 If Statements and Control Flow\n",
    "<a id=\"if-statements\"></a>\n",
    "\n",
    "<img width=\"322\" alt=\"Screenshot 2024-09-16 at 8 07 34 AM\" src=\"https://github.com/user-attachments/assets/4409a622-5497-4495-b23c-ad25597e80bf\">\n",
    "<img width=\"319\" alt=\"Screenshot 2024-09-16 at 8 07 41 AM\" src=\"https://github.com/user-attachments/assets/25c381e4-e5c9-47dc-aaa5-d3892d5b8738\">\n"
   ]
  },
  {
   "cell_type": "markdown",
   "metadata": {},
   "source": [
    "### popcorn hack\n",
    "create test cases that do not satisy the condition above. you can copy/paste the code into the new code cell"
   ]
  },
  {
   "cell_type": "code",
   "execution_count": null,
   "metadata": {
    "vscode": {
     "languageId": "java"
    }
   },
   "outputs": [],
   "source": [
    "public static void main(String[] args) {\n",
    "    int myAge = 16;\n",
    "    System.out.println(\"Current age: \" + myAge);\n",
    "    \n",
    "    if (myAge >= 16) {\n",
    "        System.out.println(\"You can start learning to drive!\");\n",
    "    }\n",
    "\n",
    "    System.out.println(\"On your next birthday, you will be \" + (myAge + 1) + \" years old!\");\n",
    "}"
   ]
  },
  {
   "cell_type": "markdown",
   "metadata": {},
   "source": [
    "# 3.3 If Else Statements\n",
    "\n",
    "<a id=\"if-else-statements\"></a>\n",
    "## Purpose of Else Statements\n",
    "Else statements: Handles what happens when the if condition is false.\n",
    "Structure of If-Else:\n",
    "- If statement with a condition.\n",
    "- Else statement without a condition.\n",
    "- Both parts have code blocks surrounded by {}.\n",
    "\n",
    "<img width=\"816\" alt=\"image\" src=\"https://github.com/user-attachments/assets/c6701143-b87f-427b-a206-6cee0660571c\">\n",
    "\n",
    "1. Based on this code, if you were younger than 16 what would it print out?\n",
    "2. Write your own if else statement\n",
    "\n",
    "# 3.4 Else If Statements \n",
    "Else If Statements: Used when you have multiple conditions that need to be checked sequentially.\n",
    "\n",
    "Flow of Execution: Each condition is evaluated in the order written. The first true condition's code runs, and the rest are skipped.\n",
    "\n",
    "Structure:\n",
    "\n",
    "- Start with a single if statement.\n",
    "- Follow with as many else if statements as needed.\n",
    "- Optionally end with one else to handle any remaining cases.\n",
    "Key Concept: The order of conditions matters. More specific conditions should come before broader ones to ensure accurate results.\n",
    "\n",
    "<img width=\"734\" alt=\"image\" src=\"https://github.com/user-attachments/assets/d7864258-6f7a-4de1-a6f3-4905dd3eb503\">\n",
    "\n",
    "1. If I was 19 what would it print out? \n",
    "2. If I was 13 what would it print out? \n",
    "3. Create your if statement with one else if condition. \n"
   ]
  },
  {
   "cell_type": "markdown",
   "metadata": {},
   "source": [
    "# 3.5 + 3.6 Compund Boolean expressions + Equivalent Boolean Expressions\n",
    "## Nested conditional statements \n",
    "\n",
    "<a id=\"conditional-statements\"></a>\n",
    "\n",
    "definition: if statements within other if statements "
   ]
  },
  {
   "cell_type": "code",
   "execution_count": null,
   "metadata": {
    "vscode": {
     "languageId": "java"
    }
   },
   "outputs": [],
   "source": [
    "import java.util.Scanner;\n",
    "\n",
    "public class Main {\n",
    "    public static void main(String[] args) {\n",
    "        Scanner scanner = new Scanner(System.in);\n",
    "        \n",
    "        // Get user input for age\n",
    "        System.out.print(\"Enter your age: \");\n",
    "        int age = scanner.nextInt();\n",
    "        \n",
    "        // Get user input for student status\n",
    "        System.out.print(\"Are you a student? (yes/no): \");\n",
    "        String studentResponse = scanner.next().toLowerCase();\n",
    "        boolean isStudent = studentResponse.equals(\"yes\");\n",
    "        \n",
    "        // Outer if-else block\n",
    "        if (age < 18) {\n",
    "            System.out.println(\"You are a minor.\");\n",
    "        } else {\n",
    "            // Nested if-else block\n",
    "            if (isStudent) {\n",
    "                System.out.println(\"You are an adult student.\");\n",
    "            } else {\n",
    "                System.out.println(\"You are an adult.\");\n",
    "            }\n",
    "        }\n",
    "\n",
    "        scanner.close();\n",
    "    }\n",
    "}"
   ]
  },
  {
   "cell_type": "markdown",
   "metadata": {},
   "source": [
    "### common mistake: Dangling else \n",
    "    - Java does not care about indentation\n",
    "    - else always belongs to the CLOSEST if\n",
    "    - curly braces can be use to format else so it belongs to the FIRST 'if'\n",
    "\n",
    "### Popcorn hack\n",
    "- explain the purpose of this algorithm, and what each if condition is used for\n",
    "- what would be output if input is \n",
    "    - age 20\n",
    "    - anual income 1500\n",
    "    - student status: yes"
   ]
  },
  {
   "cell_type": "code",
   "execution_count": null,
   "metadata": {
    "vscode": {
     "languageId": "java"
    }
   },
   "outputs": [],
   "source": [
    "function checkMembershipEligibility() {\n",
    "    // Get user input\n",
    "    let age = parseInt(prompt(\"Enter your age:\"));  // Age input\n",
    "    let income = parseFloat(prompt(\"Enter your annual income:\"));  // Annual income input\n",
    "    let isStudent = prompt(\"Are you a student? (yes/no):\").toLowerCase() === 'yes';  // Student status input\n",
    "\n",
    "    // Initialize an empty array to hold results\n",
    "    let results = [];\n",
    "\n",
    "    // Check eligibility for different memberships\n",
    "\n",
    "    // Basic Membership\n",
    "    if (age >= 18 && income >= 20000) {\n",
    "        results.push(\"You qualify for Basic Membership.\");\n",
    "    }\n",
    "\n",
    "    // Premium Membership\n",
    "    if (age >= 25 && income >= 50000) {\n",
    "        results.push(\"You qualify for Premium Membership.\");\n",
    "    }\n",
    "\n",
    "    // Student Discount\n",
    "    if (isStudent) {\n",
    "        results.push(\"You are eligible for a Student Discount.\");\n",
    "    }\n",
    "\n",
    "    // Senior Discount\n",
    "    if (age >= 65) {\n",
    "        results.push(\"You qualify for a Senior Discount.\");\n",
    "    }\n",
    "\n",
    "    // If no eligibility, provide a default message\n",
    "    if (results.length === 0) {\n",
    "        results.push(\"You do not qualify for any memberships or discounts.\");\n",
    "    }\n",
    "\n",
    "    // Output all results\n",
    "    results.forEach(result => console.log(result));\n",
    "}\n",
    "\n",
    "// Call the function to execute\n",
    "checkMembershipEligibility();"
   ]
  },
  {
   "cell_type": "markdown",
   "metadata": {},
   "source": [
    "# 3.7 Comparing Objects\n",
    "<a id=\"comparing-objects\"></a>\n",
    "## short-circuited evaluation: \n",
    "expression can be determined by only looking at the first operand. "
   ]
  },
  {
   "cell_type": "code",
   "execution_count": null,
   "metadata": {
    "vscode": {
     "languageId": "java"
    }
   },
   "outputs": [],
   "source": [
    "function isEven(num) {\n",
    "    return num % 2 === 0;\n",
    "}\n",
    "\n",
    "function isPositive(num) {\n",
    "    return num > 0;\n",
    "}\n",
    "\n",
    "let number = 10;\n",
    "\n",
    "// Short-circuit with &&\n",
    "if (isEven(number) && isPositive(number)) {\n",
    "    console.log(number + \" is even and positive.\");\n",
    "} else {\n",
    "    console.log(number + \" does not meet the criteria.\");\n",
    "}\n"
   ]
  },
  {
   "cell_type": "markdown",
   "metadata": {},
   "source": [
    "## Short-Circuit Behavior:\n",
    "- && (Logical AND): The expression isEven(number) && isPositive(number) is evaluated.\n",
    "    - JavaScript first evaluates isEven(number). - If this returns false, the whole expression will short-circuit, and isPositive(number) will not be evaluated.\n",
    "- If isEven(number) is true, then isPositive(number) is evaluated."
   ]
  },
  {
   "cell_type": "markdown",
   "metadata": {},
   "source": [
    "## Comparing Objects\n",
    "\n",
    "In java there are two different methods to compare objects but there is a difference between the == operator and the equals() method."
   ]
  },
  {
   "cell_type": "markdown",
   "metadata": {},
   "source": [
    "## == operator\n",
    "\n",
    "This operator verifies if two references refer to the same object in memory, without evaluating the objects' values or attributes."
   ]
  },
  {
   "cell_type": "code",
   "execution_count": null,
   "metadata": {
    "vscode": {
     "languageId": "java"
    }
   },
   "outputs": [],
   "source": [
    "Integer num1 = 100;\n",
    "Integer num2 = 100;\n",
    "Integer num3 = num1;\n",
    "Integer num4 = new Integer(100);\n",
    "\n",
    "System.out.println(num1 == num3); // true (same reference)\n",
    "System.out.println(num1 == num2); // true (cached integers between -128 and 127)\n",
    "System.out.println(num1 == num4); // false (different references)"
   ]
  },
  {
   "cell_type": "markdown",
   "metadata": {},
   "source": [
    "This compares the integer as num1 == num3 because they both equal the same integer so it's true. num1 == num2 because when they are both assigned the value 100 they point to the same reference so they become true. num1 == num4 even though they have the same values they are different because it's a new integer so it becomes false because they don't have the same reference point."
   ]
  },
  {
   "cell_type": "markdown",
   "metadata": {},
   "source": [
    "## equals() method\n",
    "\n",
    "This method checks the values or attributes of two objects. In custom classes, it is commonly overridden to offer a meaningful comparison based on the class's specific attributes. It focuses on value rather reference points."
   ]
  },
  {
   "cell_type": "code",
   "execution_count": null,
   "metadata": {
    "vscode": {
     "languageId": "java"
    }
   },
   "outputs": [],
   "source": [
    "Integer num1 = 100;\n",
    "Integer num2 = 100;\n",
    "Integer num3 = new Integer(100);\n",
    "\n",
    "System.out.println(num1.equals(num2)); // true (same value)\n",
    "System.out.println(num1.equals(num3)); // true (same value)"
   ]
  },
  {
   "cell_type": "markdown",
   "metadata": {},
   "source": [
    "This compares the values by their objects, not their references. num1.equals(num2) checks if the values are the same between the 2 but since they both have a value of 100 they are equal so it becomes true. This ignores if the objects have the same or different reference point. num1.euals(num3) even though it has a new integer and it's different from num1 they are still the same because they have the same value so it makes it true."
   ]
  },
  {
   "cell_type": "markdown",
   "metadata": {},
   "source": [
    "## Popcorn hack\n",
    "Would the sharons house and my house be the same?"
   ]
  },
  {
   "cell_type": "code",
   "execution_count": null,
   "metadata": {
    "vscode": {
     "languageId": "java"
    }
   },
   "outputs": [],
   "source": [
    "class House {\n",
    "    private String color;\n",
    "    private int size;\n",
    "\n",
    "    public House(String color, int size) {\n",
    "        this.color = color;\n",
    "        this.size = size;\n",
    "    }\n",
    "\n",
    "    // Override equals method to compare House objects by content\n",
    "    @Override\n",
    "    public boolean equals(Object obj) {\n",
    "        if (this == obj) return true;  // Check if same object reference\n",
    "        if (obj == null || getClass() != obj.getClass()) return false;  // Check if same class\n",
    "        House house = (House) obj;\n",
    "        return size == house.size && color.equals(house.color);  // Compare attributes\n",
    "    }\n",
    "}\n",
    "\n",
    "public class Main {\n",
    "    public static void main(String[] args) {\n",
    "        House myHouse = new House(\"green\", 150);\n",
    "        House anikasHouse = new House(\"green\", 150);\n",
    "        House sharonsHouse = new House(\"green\", 150);\n",
    "\n",
    "        // Correct comparison using equals()\n",
    "        System.out.println(myHouse.equals(sharonsHouse));  // This should return true\n",
    "    }\n",
    "}\n"
   ]
  }
 ],
 "metadata": {
  "kernelspec": {
   "display_name": "Java",
   "language": "java",
   "name": "java"
  },
  "language_info": {
   "codemirror_mode": "java",
   "file_extension": ".jshell",
   "mimetype": "text/x-java-source",
   "name": "Java",
   "pygments_lexer": "java",
   "version": "17.0.12+8-LTS-286"
  }
 },
 "nbformat": 4,
 "nbformat_minor": 2
}

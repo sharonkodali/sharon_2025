{
 "cells": [
  {
   "cell_type": "markdown",
   "metadata": {},
   "source": [
    "---\n",
    "layout: post\n",
    "toc: true\n",
    "title: Hacks Tools and equipment play \n",
    "description: Sprint 1\n",
    "authors: Sharon Kodali\n",
    "categories: [AP CSA]\n",
    "courses: { csa: {week: 3} }\n",
    "type: ccc\n",
    "permalink: /toolhacks\n",
    "--- "
   ]
  },
  {
   "cell_type": "code",
   "execution_count": 4,
   "metadata": {},
   "outputs": [
    {
     "ename": "ModuleNotFoundError",
     "evalue": "No module named 'wikipediaapi'",
     "output_type": "error",
     "traceback": [
      "\u001b[0;31m---------------------------------------------------------------------------\u001b[0m",
      "\u001b[0;31mModuleNotFoundError\u001b[0m                       Traceback (most recent call last)",
      "Cell \u001b[0;32mIn[4], line 1\u001b[0m\n\u001b[0;32m----> 1\u001b[0m \u001b[39mimport\u001b[39;00m \u001b[39mwikipediaapi\u001b[39;00m  \u001b[39m# import wikipedia-api library to access page contents\u001b[39;00m\n\u001b[1;32m      2\u001b[0m \u001b[39mimport\u001b[39;00m \u001b[39memoji\u001b[39;00m\n\u001b[1;32m      3\u001b[0m \u001b[39mimport\u001b[39;00m \u001b[39mre\u001b[39;00m  \u001b[39m# for word cleaning\u001b[39;00m\n",
      "\u001b[0;31mModuleNotFoundError\u001b[0m: No module named 'wikipediaapi'"
     ]
    }
   ],
   "source": [
    "# List of best-selling books in the 2000s with their word counts (simulated data)\n",
    "best_selling_books = [\n",
    "    {\"title\": \"Harry Potter and the Order of the Phoenix\", \"word_count\": 257045},\n",
    "    {\"title\": \"The Da Vinci Code\", \"word_count\": 138996},\n",
    "    {\"title\": \"The Kite Runner\", \"word_count\": 101852},\n",
    "    {\"title\": \"Twilight\", \"word_count\": 118975},\n",
    "    {\"title\": \"The Hunger Games\", \"word_count\": 99800},\n",
    "    {\"title\": \"The Girl with the Dragon Tattoo\", \"word_count\": 139500},\n",
    "    {\"title\": \"Angels & Demons\", \"word_count\": 151080},\n",
    "    {\"title\": \"The Road\", \"word_count\": 62500},\n",
    "    {\"title\": \"Life of Pi\", \"word_count\": 101232},\n",
    "    {\"title\": \"The Lovely Bones\", \"word_count\": 102379}\n",
    "]\n",
    "\n",
    "# Variable to hold the total word count\n",
    "total_word_count = 0\n",
    "\n",
    "# Iterate through the list of books and sum their word counts\n",
    "for book in best_selling_books:\n",
    "    total_word_count += book[\"word_count\"]\n",
    "    # Display the title and the word count for each book\n",
    "    print(f\"{book['title']} has {book['word_count']} words.\")\n",
    "\n",
    "# Calculate the average word count\n",
    "average_word_count = total_word_count / len(best_selling_books)\n",
    "\n",
    "# Output the average word count\n",
    "print(f\"\\nThe average word count of these best-selling books is: {average_word_count:.0f} words.\")\n"
   ]
  }
 ],
 "metadata": {
  "kernelspec": {
   "display_name": "venv",
   "language": "python",
   "name": "python3"
  },
  "language_info": {
   "codemirror_mode": {
    "name": "ipython",
    "version": 3
   },
   "file_extension": ".py",
   "mimetype": "text/x-python",
   "name": "python",
   "nbconvert_exporter": "python",
   "pygments_lexer": "ipython3",
   "version": "3.12.5"
  },
  "orig_nbformat": 4
 },
 "nbformat": 4,
 "nbformat_minor": 2
}

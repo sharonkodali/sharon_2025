{
 "cells": [
  {
   "cell_type": "markdown",
   "metadata": {},
   "source": [
    "---\n",
    "layout: post\n",
    "toc: true\n",
    "title: frontend development hacks \n",
    "description: Sprint 1\n",
    "authors: Sharon Kodali\n",
    "categories: [AP CSA]\n",
    "courses: { csa: {week: 3} }\n",
    "type: ccc\n",
    "--- "
   ]
  },
  {
   "cell_type": "markdown",
   "metadata": {},
   "source": [
    "\n",
    "\n",
    "## Frontend Development\n",
    "An introduction to HTML, CSS, and JavaScript.\n",
    "\n",
    "Aug 27, 2023 • 2 min read\n",
    "\n",
    " Javascript\n",
    "\n",
    "#### How does HTML work?\n",
    "Similar function to Markdown, syntax defines how stuff should be displayed\n",
    "\n",
    "HTML is based on beginning and closing tags <tagname>content</tagname>\n",
    "Note the “/” on the ending or closing tag of the pair"
   ]
  },
  {
   "cell_type": "code",
   "execution_count": null,
   "metadata": {},
   "outputs": [],
   "source": [
    "%%html\n",
    "\n",
    "<!-- put your HTML code in this cell, Make sure to press the Run button to see your results below -->\n",
    "\n",
    "<div>\n",
    "    <a href=\"https://spotify.com/\">Spotify 🎵</a>\n",
    "    <br><br>\n",
    "    <p>I LOVE MUSIC!! </p>\n",
    "</div>"
   ]
  }
 ],
 "metadata": {
  "language_info": {
   "name": "python"
  },
  "orig_nbformat": 4
 },
 "nbformat": 4,
 "nbformat_minor": 2
}

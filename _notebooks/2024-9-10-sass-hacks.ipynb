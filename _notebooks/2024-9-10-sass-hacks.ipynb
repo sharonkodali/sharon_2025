{
 "cells": [
  {
   "cell_type": "markdown",
   "metadata": {},
   "source": [
    "---\n",
    "layout: post\n",
    "toc: true\n",
    "title: SASS hacks \n",
    "description: Sprint 1\n",
    "authors: Sharon Kodali\n",
    "categories: [AP CSA]\n",
    "courses: { csa: {week: 3} }\n",
    "type: ccc\n",
    "permalink: /toolhacks\n",
    "--- "
   ]
  }
 ],
 "metadata": {
  "language_info": {
   "name": "python"
  },
  "orig_nbformat": 4
 },
 "nbformat": 4,
 "nbformat_minor": 2
}

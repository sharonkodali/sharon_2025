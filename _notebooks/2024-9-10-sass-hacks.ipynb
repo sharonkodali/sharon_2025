{
 "cells": [
  {
   "cell_type": "markdown",
   "metadata": {},
   "source": [
    "---\n",
    "layout: post\n",
    "toc: true\n",
    "title: SASS hacks \n",
    "description: Sprint 1\n",
    "authors: Sharon Kodali\n",
    "categories: [AP CSA]\n",
    "courses: { csa: {week: 3} }\n",
    "type: ccc\n",
    "permalink: /sass hacks\n",
    "--- "
   ]
  },
  {
   "cell_type": "markdown",
   "metadata": {},
   "source": [
    "### Popcorn hacks\n",
    "\n",
    "- Go to the _sass/minima/custom-styles.scss file and change the style. You can do this by changing the imported themes. To see these changes _config.yml needs to be set to minima."
   ]
  },
  {
   "cell_type": "code",
   "execution_count": null,
   "metadata": {},
   "outputs": [],
   "source": [
    "// Comment in or Uncomment out the following themes to use them \n",
    "\n",
    "// Dark themes\n",
    "//@import \"minima/leaf/_leaf\";  //Leaf theme\n",
    "//@import \"minima/hacker/jekyll-theme-hacker\"; //Hacker theme \n",
    "@import \"minima/dracula/_dracula\";\n",
    "\n",
    "// Light themes\n",
    "//@import \"minima/hamilton/main\"; //Hamilton theme\n",
    "//@import \"minima/monophase/main\"; //Monophase theme \n",
    "//@import \"minima/minimal-mistakes/__minimal-mistakes\"; //Minimal Mistakes theme \n",
    "// Mix Light themes with this if your eyes are bleeding \n",
    "@import \"minima/dracula/dark-mode\";\n",
    "\n",
    "// Styles for nighthawk theme, do not remove\n",
    "@import \"nighthawk/main\";\n"
   ]
  },
  {
   "cell_type": "markdown",
   "metadata": {},
   "source": [
    "SASS vs CSS\n",
    "The awesomeness of SASS (Syntactically Awesome Stylesheets) really comes down to having programattic and reusable features that it can turn SASS into CSS.\n",
    "\n",
    "SASS is a powerful extension of CSS that enables developers to use features not available in pure CSS, such as variables, mixins, and nesting. Such features, as well the SASS preprocessor can create consistent CSS for multiple pages out of a single SASS definitions.\n",
    "CSS remains the foundational language for styling Web Pages. SASS contains a scripting languages and a preprocessor (build step) that creates CSS stylesheets."
   ]
  },
  {
   "cell_type": "markdown",
   "metadata": {},
   "source": [
    "## CSS Sample"
   ]
  },
  {
   "cell_type": "code",
   "execution_count": null,
   "metadata": {},
   "outputs": [],
   "source": [
    "<nav>\n",
    "  <ul>\n",
    "    <li><a href=\"#\">Home</a></li>\n",
    "    <li><a href=\"#\">About</a></li>\n",
    "    <li><a href=\"#\">Contact</a></li>\n",
    "  </ul>\n",
    "</nav>\n",
    "\n",
    "<!-- This is CSS which doesn't utilize nesting -->\n",
    "<style>\n",
    "  nav {\n",
    "  background-color: #333;\n",
    "  }\n",
    "\n",
    "  nav ul {\n",
    "  list-style: none;\n",
    "  }\n",
    "\n",
    "  nav ul li {\n",
    "  display: inline-block;\n",
    "  }\n",
    "\n",
    "  nav ul li a {\n",
    "  color: white;\n",
    "  text-decoration: none;\n",
    "  }\n",
    "\n",
    "  nav ul li a:hover {\n",
    "  color: #ff0;\n",
    "  }\n",
    "</style>"
   ]
  }
 ],
 "metadata": {
  "language_info": {
   "name": "python"
  },
  "orig_nbformat": 4
 },
 "nbformat": 4,
 "nbformat_minor": 2
}
